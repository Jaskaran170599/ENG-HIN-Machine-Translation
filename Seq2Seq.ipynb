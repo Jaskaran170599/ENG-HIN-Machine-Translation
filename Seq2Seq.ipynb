{
 "cells": [
  {
   "cell_type": "code",
   "execution_count": 1,
   "metadata": {},
   "outputs": [],
   "source": [
    "import numpy as np\n",
    "import tensorflow as tf"
   ]
  },
  {
   "cell_type": "code",
   "execution_count": 2,
   "metadata": {},
   "outputs": [],
   "source": [
    "#data preprocessinig\n",
    "file=open(\"./\")"
   ]
  },
  {
   "cell_type": "code",
   "execution_count": 15,
   "metadata": {},
   "outputs": [],
   "source": [
    "# hyper-parameters\n",
    "nodes=10\n",
    "x_seq=10\n",
    "y_seq=10\n",
    "embed_size=10"
   ]
  },
  {
   "cell_type": "code",
   "execution_count": 12,
   "metadata": {},
   "outputs": [],
   "source": [
    "# tf.reset_default_graph()\n",
    "\n",
    "X=tf.placeholder(tf.float32,(None,x_seq,embed_size))\n",
    "# Y=\n",
    "# T=\n",
    "\n",
    "with tf.variable_scope(\"encoder\"):\n",
    "    enc_cell=tf.nn.rnn_cell.BasicLSTMCell(nodes,activation=tf.nn.relu,name=\"enc_cell\")\n",
    "\n",
    "enc_out,enc_state=tf.nn.dynamic_rnn(enc_cell,X,dtype=tf.float32)\n",
    "\n",
    "with tf.variable_scope(\"decoder\"):\n",
    "    dec_cell=tf.nn.rnn_cell.BasicLSTMCell(nodes,activation=tf.nn.relu,name=\"dec_cell\")\n",
    "\n",
    "dec_out,_=tf.nn.dynamic_rnn(dec_cell,Y,initial_state=enc_state)\n",
    "\n",
    "out=tf.keras.layers.Dense(y_seq,activation=\"sigmoid\")\n",
    "\n",
    "\n",
    "\n"
   ]
  },
  {
   "cell_type": "code",
   "execution_count": null,
   "metadata": {},
   "outputs": [],
   "source": []
  }
 ],
 "metadata": {
  "kernelspec": {
   "display_name": "Python 3",
   "language": "python",
   "name": "python3"
  },
  "language_info": {
   "codemirror_mode": {
    "name": "ipython",
    "version": 3
   },
   "file_extension": ".py",
   "mimetype": "text/x-python",
   "name": "python",
   "nbconvert_exporter": "python",
   "pygments_lexer": "ipython3",
   "version": "3.6.5"
  }
 },
 "nbformat": 4,
 "nbformat_minor": 2
}

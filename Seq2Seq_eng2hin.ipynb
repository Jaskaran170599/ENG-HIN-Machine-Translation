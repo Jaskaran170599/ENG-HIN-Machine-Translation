{
 "cells": [
  {
   "cell_type": "code",
   "execution_count": 1,
   "metadata": {
    "colab": {
     "base_uri": "https://localhost:8080/",
     "height": 187
    },
    "colab_type": "code",
    "id": "H4MO4VgzDn0q",
    "outputId": "336add24-34bf-420e-feeb-770fa91efe2f"
   },
   "outputs": [],
   "source": [
    "# !pip install pydrive\n",
    "# from pydrive.auth import GoogleAuth\n",
    "# from pydrive.drive import GoogleDrive\n",
    "# from google.colab import auth\n",
    "# from oauth2client.client import GoogleCredentials\n",
    "\n",
    "\n",
    "# auth.authenticate_user()\n",
    "# gauth = GoogleAuth()\n",
    "# gauth.credentials = GoogleCredentials.get_application_default()\n",
    "# drive = GoogleDrive(gauth)\n",
    "# # https://drive.google.com/open?id=1tl_Gpc8AOHgMqID4rWK5ZUfOKwxx8e2g\n",
    "# # https://drive.google.com/open?id=1Dz4nTn_AiVKAXlRXjlI9NhZQzd1X9h4f\n",
    "# download = drive.CreateFile({'id': '1Dz4nTn_AiVKAXlRXjlI9NhZQzd1X9h4f'})\n",
    "# download.GetContentFile('parallel.tgz')\n",
    "# ! tar -xf parallel.tgz"
   ]
  },
  {
   "cell_type": "code",
   "execution_count": 1,
   "metadata": {
    "colab": {
     "base_uri": "https://localhost:8080/",
     "height": 68
    },
    "colab_type": "code",
    "id": "WNGzKHDcDOJS",
    "outputId": "ee131d79-2431-417e-94e6-99693aca993a"
   },
   "outputs": [],
   "source": [
    "import numpy as np\n",
    "import tensorflow as tf\n",
    "from nltk.tokenize import word_tokenize\n",
    "import string \n",
    "import nltk\n",
    "# nltk.download('punkt')"
   ]
  },
  {
   "cell_type": "code",
   "execution_count": 148,
   "metadata": {
    "colab": {},
    "colab_type": "code",
    "id": "tiMuFBCzaFgh"
   },
   "outputs": [],
   "source": [
    "file=open(\"parallel/parallel/IITB.en-hi.en\",encoding=\"utf-8\").read()\n",
    "file2=open(\"parallel/parallel/IITB.en-hi.hi\",encoding=\"utf-8\").read()\n",
    "eng=file.split('\\n')[:1000]\n",
    "hin=file2.split('\\n')[:1000]"
   ]
  },
  {
   "cell_type": "code",
   "execution_count": 149,
   "metadata": {
    "colab": {
     "base_uri": "https://localhost:8080/",
     "height": 34
    },
    "colab_type": "code",
    "id": "LpqMUo2VDOJk",
    "outputId": "d8eb2e39-e738-453c-f179-900de49da9ca"
   },
   "outputs": [
    {
     "data": {
      "text/plain": [
       "(1000, 1000)"
      ]
     },
     "execution_count": 149,
     "metadata": {},
     "output_type": "execute_result"
    }
   ],
   "source": [
    "x=[]\n",
    "y=[]\n",
    "z=0\n",
    "for i in range(len(eng)):\n",
    "    if len(eng[i])<1 or len(hin[i])<1:\n",
    "        continue\n",
    "    ans1=eng[i].strip()\n",
    "    ans2=hin[i].strip()\n",
    "    for j in string.punctuation+\"-\":\n",
    "        if j in ans1:\n",
    "            ans1=ans1.replace(j,\"\")\n",
    "        if j in ans2:\n",
    "            ans2=ans2.replace(j,\"\")\n",
    "    x.append(ans1)\n",
    "    y.append(ans2)\n",
    "\n",
    "\n",
    "len(x),len(y)"
   ]
  },
  {
   "cell_type": "code",
   "execution_count": 150,
   "metadata": {
    "colab": {
     "base_uri": "https://localhost:8080/",
     "height": 34
    },
    "colab_type": "code",
    "id": "MpqCoghWDOJw",
    "outputId": "483f3ea8-b40b-4a42-cd12-e7dc3ea46896"
   },
   "outputs": [
    {
     "data": {
      "text/plain": [
       "(413, 319)"
      ]
     },
     "execution_count": 150,
     "metadata": {},
     "output_type": "execute_result"
    }
   ],
   "source": [
    "\n",
    "max_l=0\n",
    "for i in x:\n",
    "  if(len(i.split())>max_l):\n",
    "    max_l=len(i.split())\n",
    "    \n",
    "max_e=max_l+5\n",
    "for i in x:\n",
    "  if(len(i.split())>max_l):\n",
    "    max_l=len(i.split())\n",
    "    \n",
    "max_h=max_l+5\n",
    "        \n",
    "mapping_hin={}\n",
    "demapping_hin={}\n",
    "mapping_eng={}\n",
    "demapping_eng={}\n",
    "k=1\n",
    "for i in set((\" \".join(x)).split()):\n",
    "\n",
    "    if len(i)<1:\n",
    "        continue\n",
    "\n",
    "    if i.lower() in mapping_eng.keys():\n",
    "        continue\n",
    "    mapping_eng[i.lower()]=k\n",
    "    demapping_eng[k]=i.lower()\n",
    "    k+=1\n",
    "\n",
    "mapping_eng[\"startseq\"]=k\n",
    "demapping_eng[k]=\"startseq\"\n",
    "k+=1\n",
    "mapping_eng[\"endseq\"]=k\n",
    "demapping_eng[k]=\"endseq\"\n",
    "    \n",
    "k=1\n",
    "for i in set((\" \".join(y)).split()):\n",
    "\n",
    "    if len(i)<1:\n",
    "        continue\n",
    "\n",
    "    if i.lower() in mapping_hin.keys():\n",
    "        continue\n",
    "    mapping_hin[i.lower()]=k\n",
    "    demapping_hin[k]=i.lower()\n",
    "    k+=1\n",
    "    \n",
    "mapping_hin[\"startseq\"]=k\n",
    "demapping_hin[k]=\"startseq\"\n",
    "k+=1\n",
    "mapping_hin[\"endseq\"]=k\n",
    "demapping_hin[k]=\"endseq\"\n",
    "\n",
    "def get_batch(s,e):\n",
    "\n",
    "  data_x=[]\n",
    "  for i in range(s,e,1):\n",
    "    k=[]\n",
    "    k.append(mapping_eng[\"startseq\"])\n",
    "    for j in x[i].split():\n",
    "      k.append(mapping_eng[j.lower()])\n",
    "    k.append(mapping_eng[\"endseq\"])\n",
    "    k=[0]*(max_e-len(k))+k\n",
    "    k=np.array(k[:max_e])\n",
    "    data_x.append(k)\n",
    "  data_y=[]\n",
    "  data_t=[]\n",
    "  for i in range(s,e,1):\n",
    "\n",
    "    k=[]\n",
    "    k.append(mapping_hin[\"startseq\"])\n",
    "    for j in y[i].split():\n",
    "        k.append(mapping_hin[j.lower()])\n",
    "  \n",
    "    k=k+[0]*(max_h-len(k))\n",
    "    k=np.array(k[:max_h])\n",
    "    data_y.append(k)\n",
    "\n",
    "  for i in range(s,e,1):\n",
    "\n",
    "    k=[]\n",
    "  \n",
    "    for j in y[i].split():\n",
    "        k.append(mapping_hin[j.lower()])\n",
    "    k.append(mapping_hin[\"endseq\"])\n",
    "    k=k+[0]*(max_h-len(k))\n",
    "    k=np.array(k[:max_h])\n",
    "    data_t.append(k)\n",
    "\n",
    "  data_x=np.array(data_x)\n",
    "  data_y=np.array(data_y)\n",
    "  data_t=np.array(data_t)\n",
    "  return data_x,data_y,data_t\n",
    "\n",
    "len(mapping_hin),len(mapping_eng)"
   ]
  },
  {
   "cell_type": "code",
   "execution_count": 151,
   "metadata": {},
   "outputs": [],
   "source": [
    "tf.reset_default_graph()"
   ]
  },
  {
   "cell_type": "code",
   "execution_count": 6,
   "metadata": {
    "colab": {},
    "colab_type": "code",
    "id": "-MsdSZN2DOKX"
   },
   "outputs": [
    {
     "ename": "NameError",
     "evalue": "name 'mapping_hin' is not defined",
     "output_type": "error",
     "traceback": [
      "\u001b[1;31m---------------------------------------------------------------------------\u001b[0m",
      "\u001b[1;31mNameError\u001b[0m                                 Traceback (most recent call last)",
      "\u001b[1;32m<ipython-input-6-037c94c06968>\u001b[0m in \u001b[0;36m<module>\u001b[1;34m()\u001b[0m\n\u001b[0;32m     12\u001b[0m \u001b[1;31m# embeddings\u001b[0m\u001b[1;33m\u001b[0m\u001b[1;33m\u001b[0m\u001b[0m\n\u001b[0;32m     13\u001b[0m \u001b[1;33m\u001b[0m\u001b[0m\n\u001b[1;32m---> 14\u001b[1;33m \u001b[0membeddings_h\u001b[0m\u001b[1;33m=\u001b[0m\u001b[0mtf\u001b[0m\u001b[1;33m.\u001b[0m\u001b[0mVariable\u001b[0m\u001b[1;33m(\u001b[0m\u001b[0mtf\u001b[0m\u001b[1;33m.\u001b[0m\u001b[0mrandom_uniform\u001b[0m\u001b[1;33m(\u001b[0m\u001b[1;33m(\u001b[0m\u001b[0mlen\u001b[0m\u001b[1;33m(\u001b[0m\u001b[0mmapping_hin\u001b[0m\u001b[1;33m)\u001b[0m\u001b[1;33m+\u001b[0m\u001b[1;36m1\u001b[0m\u001b[1;33m,\u001b[0m\u001b[0membed_size\u001b[0m\u001b[1;33m)\u001b[0m\u001b[1;33m,\u001b[0m\u001b[1;33m-\u001b[0m\u001b[1;36m1\u001b[0m\u001b[1;33m,\u001b[0m\u001b[1;36m1\u001b[0m\u001b[1;33m)\u001b[0m\u001b[1;33m,\u001b[0m\u001b[0mname\u001b[0m\u001b[1;33m=\u001b[0m\u001b[1;34m\"embeddings_h\"\u001b[0m\u001b[1;33m)\u001b[0m\u001b[1;33m\u001b[0m\u001b[0m\n\u001b[0m\u001b[0;32m     15\u001b[0m \u001b[0membeddings_e\u001b[0m\u001b[1;33m=\u001b[0m\u001b[0mtf\u001b[0m\u001b[1;33m.\u001b[0m\u001b[0mVariable\u001b[0m\u001b[1;33m(\u001b[0m\u001b[0mtf\u001b[0m\u001b[1;33m.\u001b[0m\u001b[0mrandom_uniform\u001b[0m\u001b[1;33m(\u001b[0m\u001b[1;33m(\u001b[0m\u001b[0mlen\u001b[0m\u001b[1;33m(\u001b[0m\u001b[0mmapping_eng\u001b[0m\u001b[1;33m)\u001b[0m\u001b[1;33m+\u001b[0m\u001b[1;36m1\u001b[0m\u001b[1;33m,\u001b[0m\u001b[0membed_size\u001b[0m\u001b[1;33m)\u001b[0m\u001b[1;33m,\u001b[0m\u001b[1;33m-\u001b[0m\u001b[1;36m1\u001b[0m\u001b[1;33m,\u001b[0m\u001b[1;36m1\u001b[0m\u001b[1;33m)\u001b[0m\u001b[1;33m,\u001b[0m\u001b[0mname\u001b[0m\u001b[1;33m=\u001b[0m\u001b[1;34m\"embeddings_e\"\u001b[0m\u001b[1;33m)\u001b[0m\u001b[1;33m\u001b[0m\u001b[0m\n\u001b[0;32m     16\u001b[0m \u001b[0mX_embed\u001b[0m\u001b[1;33m=\u001b[0m\u001b[0mtf\u001b[0m\u001b[1;33m.\u001b[0m\u001b[0mnn\u001b[0m\u001b[1;33m.\u001b[0m\u001b[0membedding_lookup\u001b[0m\u001b[1;33m(\u001b[0m\u001b[0membeddings_e\u001b[0m\u001b[1;33m,\u001b[0m\u001b[0mX\u001b[0m\u001b[1;33m)\u001b[0m\u001b[1;33m\u001b[0m\u001b[0m\n",
      "\u001b[1;31mNameError\u001b[0m: name 'mapping_hin' is not defined"
     ]
    }
   ],
   "source": [
    "# hyper-parameters\n",
    "batch_size=1000\n",
    "nodes=256\n",
    "embed_size=128\n",
    "\n",
    "\n",
    "\n",
    "X=tf.placeholder(tf.int32,(None,max_e))\n",
    "Y=tf.placeholder(tf.int32,(None,max_h))\n",
    "T=tf.placeholder(tf.int32,(None,max_h))\n",
    "\n",
    "# embeddings\n",
    "\n",
    "embeddings_h=tf.Variable(tf.random_uniform((len(mapping_hin)+1,embed_size),-1,1),name=\"embeddings_h\")\n",
    "embeddings_e=tf.Variable(tf.random_uniform((len(mapping_eng)+1,embed_size),-1,1),name=\"embeddings_e\")\n",
    "X_embed=tf.nn.embedding_lookup(embeddings_e,X)\n",
    "Y_embed=tf.nn.embedding_lookup(embeddings_h, Y)\n"
   ]
  },
  {
   "cell_type": "code",
   "execution_count": 5,
   "metadata": {
    "colab": {},
    "colab_type": "code",
    "id": "A7aRHrQQDOK9"
   },
   "outputs": [
    {
     "ename": "NameError",
     "evalue": "name 'X_embed' is not defined",
     "output_type": "error",
     "traceback": [
      "\u001b[1;31m---------------------------------------------------------------------------\u001b[0m",
      "\u001b[1;31mNameError\u001b[0m                                 Traceback (most recent call last)",
      "\u001b[1;32m<ipython-input-5-5ec421dd8683>\u001b[0m in \u001b[0;36m<module>\u001b[1;34m()\u001b[0m\n\u001b[0;32m      2\u001b[0m \u001b[1;32mwith\u001b[0m \u001b[0mtf\u001b[0m\u001b[1;33m.\u001b[0m\u001b[0mvariable_scope\u001b[0m\u001b[1;33m(\u001b[0m\u001b[1;34m\"encoder\"\u001b[0m\u001b[1;33m)\u001b[0m\u001b[1;33m:\u001b[0m\u001b[1;33m\u001b[0m\u001b[0m\n\u001b[0;32m      3\u001b[0m     \u001b[0menc_cell\u001b[0m\u001b[1;33m=\u001b[0m\u001b[0mtf\u001b[0m\u001b[1;33m.\u001b[0m\u001b[0mnn\u001b[0m\u001b[1;33m.\u001b[0m\u001b[0mrnn_cell\u001b[0m\u001b[1;33m.\u001b[0m\u001b[0mLSTMCell\u001b[0m\u001b[1;33m(\u001b[0m\u001b[0mnodes\u001b[0m\u001b[1;33m,\u001b[0m\u001b[0mactivation\u001b[0m\u001b[1;33m=\u001b[0m\u001b[0mtf\u001b[0m\u001b[1;33m.\u001b[0m\u001b[0mnn\u001b[0m\u001b[1;33m.\u001b[0m\u001b[0mrelu\u001b[0m\u001b[1;33m,\u001b[0m\u001b[0mname\u001b[0m\u001b[1;33m=\u001b[0m\u001b[1;34m\"enc_cell\"\u001b[0m\u001b[1;33m)\u001b[0m\u001b[1;33m\u001b[0m\u001b[0m\n\u001b[1;32m----> 4\u001b[1;33m     \u001b[0menc_out\u001b[0m\u001b[1;33m,\u001b[0m\u001b[0menc_state\u001b[0m\u001b[1;33m=\u001b[0m\u001b[0mtf\u001b[0m\u001b[1;33m.\u001b[0m\u001b[0mnn\u001b[0m\u001b[1;33m.\u001b[0m\u001b[0mdynamic_rnn\u001b[0m\u001b[1;33m(\u001b[0m\u001b[0menc_cell\u001b[0m\u001b[1;33m,\u001b[0m\u001b[0mX_embed\u001b[0m\u001b[1;33m,\u001b[0m\u001b[0mdtype\u001b[0m\u001b[1;33m=\u001b[0m\u001b[0mtf\u001b[0m\u001b[1;33m.\u001b[0m\u001b[0mfloat32\u001b[0m\u001b[1;33m)\u001b[0m\u001b[1;33m\u001b[0m\u001b[0m\n\u001b[0m\u001b[0;32m      5\u001b[0m \u001b[1;33m\u001b[0m\u001b[0m\n\u001b[0;32m      6\u001b[0m \u001b[1;32mwith\u001b[0m \u001b[0mtf\u001b[0m\u001b[1;33m.\u001b[0m\u001b[0mvariable_scope\u001b[0m\u001b[1;33m(\u001b[0m\u001b[1;34m\"decoder\"\u001b[0m\u001b[1;33m)\u001b[0m\u001b[1;33m:\u001b[0m\u001b[1;33m\u001b[0m\u001b[0m\n",
      "\u001b[1;31mNameError\u001b[0m: name 'X_embed' is not defined"
     ]
    }
   ],
   "source": [
    "with tf.variable_scope(\"encoder\"):\n",
    "    enc_cell=tf.nn.rnn_cell.LSTMCell(nodes,activation=tf.nn.relu,name=\"enc_cell\")\n",
    "    enc_out,enc_state=tf.nn.dynamic_rnn(enc_cell,X_embed,dtype=tf.float32)\n",
    "\n",
    "with tf.variable_scope(\"decoder\"):\n",
    "    dec_cell=tf.nn.rnn_cell.LSTMCell(nodes,activation=tf.nn.relu,name=\"dec_cell\")\n",
    "    dec_out,_=tf.nn.dynamic_rnn(dec_cell,Y_embed,initial_state=enc_state)\n",
    "\n",
    "with tf.variable_scope(\"optimizer\"):\n",
    "    dec_out=tf.layers.dropout(dec_out,0.4)\n",
    "    logits_h = tf.contrib.layers.fully_connected(dec_out,num_outputs=len(mapping_hin)+1, activation_fn=None)\n",
    "    loss=tf.contrib.seq2seq.sequence_loss(logits=logits_h,targets=T,weights=tf.ones((batch_size,max_h)))\n",
    "    optimizer = tf.train.AdamOptimizer().minimize(loss)"
   ]
  },
  {
   "cell_type": "code",
   "execution_count": 154,
   "metadata": {
    "colab": {
     "base_uri": "https://localhost:8080/",
     "height": 71
    },
    "colab_type": "code",
    "id": "PUmf63YvDOvs",
    "outputId": "0bad4cfe-55d9-4e39-b1ed-7cd143530e73"
   },
   "outputs": [],
   "source": [
    "# sess.close()\n",
    "sess=tf.Session()\n",
    "sess.run(tf.global_variables_initializer())"
   ]
  },
  {
   "cell_type": "code",
   "execution_count": 155,
   "metadata": {
    "colab": {
     "base_uri": "https://localhost:8080/",
     "height": 867
    },
    "colab_type": "code",
    "id": "B1LEtNl4DOv0",
    "outputId": "2a49418c-03b4-4760-8a23-57fa84bc4a61",
    "scrolled": true
   },
   "outputs": [
    {
     "name": "stdout",
     "output_type": "stream",
     "text": [
      "Epoch   0 Loss:  6.124 Accuracy: 0.0003\n",
      "Epoch   1 Loss:  5.501 Accuracy: 0.8371\n",
      "Epoch   2 Loss:  4.684 Accuracy: 0.8374\n",
      "Epoch   3 Loss:  2.473 Accuracy: 0.8374\n",
      "Epoch   4 Loss:  1.966 Accuracy: 0.8372\n",
      "Epoch   5 Loss: 20.889 Accuracy: 0.8374\n",
      "Epoch   6 Loss: 101.384 Accuracy: 0.8374\n",
      "Epoch   7 Loss: 54.025 Accuracy: 0.8374\n",
      "Epoch   8 Loss: 36.698 Accuracy: 0.8373\n",
      "Epoch   9 Loss: 34.240 Accuracy: 0.8374\n",
      "Epoch  10 Loss: 34.270 Accuracy: 0.8374\n",
      "Epoch  11 Loss: 31.274 Accuracy: 0.8374\n",
      "Epoch  12 Loss: 23.568 Accuracy: 0.8372\n",
      "Epoch  13 Loss: 18.029 Accuracy: 0.8374\n",
      "Epoch  14 Loss: 12.860 Accuracy: 0.8374\n",
      "Epoch  15 Loss:  9.870 Accuracy: 0.8374\n",
      "Epoch  16 Loss:  7.873 Accuracy: 0.8374\n",
      "Epoch  17 Loss:  6.762 Accuracy: 0.8374\n",
      "Epoch  18 Loss:  5.990 Accuracy: 0.8374\n",
      "Epoch  19 Loss:  5.513 Accuracy: 0.8374\n"
     ]
    }
   ],
   "source": [
    "#Train\n",
    "epochs=20\n",
    "\n",
    "\n",
    "for i in range(epochs):\n",
    "    k=0\n",
    "    batch_loss=0\n",
    "\n",
    "    while k <500:\n",
    "        batch_loss=0\n",
    "        batch_logits=0\n",
    "        acc=0\n",
    "#         if k+batch_size > data_len:\n",
    "#             _, batch_loss, batch_logits = sess.run([optimizer, loss, logits],feed_dict={X:data_x[k:],Y:data_y[k:],\n",
    "#                                                                                         T:data_y[k:]})\n",
    "#         else:\n",
    "        data_x,data_y,data_t=get_batch(k,k+batch_size)\n",
    "#         print(data_x[0],data_y[0],data_t[0])\n",
    "        _, batch_loss, batch_logits = sess.run([optimizer, loss, logits_h],feed_dict={X:data_x,Y:data_y,T:data_t})\n",
    "                                                                                            \n",
    "        accuracy = np.mean(batch_logits.argmax(axis=-1) == data_t[k:k+batch_size])\n",
    "\n",
    "        print('Epoch {:3} Loss: {:>6.3f} Accuracy: {:>6.4f}'.format(i, batch_loss,accuracy))\n",
    "        k+=batch_size\n",
    "        break\n",
    "\n"
   ]
  },
  {
   "cell_type": "code",
   "execution_count": 136,
   "metadata": {
    "colab": {},
    "colab_type": "code",
    "id": "f9ThjWgbDOzD"
   },
   "outputs": [],
   "source": [
    " def get_reply(text):\n",
    "    tokens=text.split()\n",
    "    data=[]\n",
    "    data.append(mapping_eng[\"startseq\"])\n",
    "    for i in tokens:\n",
    "        data.append(mapping_eng[i.lower()])\n",
    "    data.append(mapping_eng[\"endseq\"])\n",
    "    data_x=np.array([0]*(max_e-len(data))+data)\n",
    "    data_y=[]\n",
    "    data_y=np.array([mapping_hin[\"startseq\"]]+[0]*(max_h-len(data_y)-1))\n",
    "    last_t=\"\"\n",
    "    \n",
    "    k=0\n",
    "    reply=[]\n",
    "    \n",
    "    while(last_t!=\"endseq\" and k<max_h-1):\n",
    "        \n",
    "        reply.append(sess.run(logits_h,feed_dict={X:[data_x],Y:[data_y]}).argmax(axis=-1)[0,k])\n",
    "#         print(data_x)\n",
    "        data_y[k+1]=reply[k]\n",
    "#         print(data_y)\n",
    "        if(reply[k]==0):\n",
    "            break\n",
    "        last_t=demapping_hin[reply[k]]\n",
    "        k+=1\n",
    "    text=\"\"\n",
    "#     print(reply)\n",
    "    for i in reply:\n",
    "#       print(i)\n",
    "      if i==0 or i==mapping_hin[\"endseq\"]:\n",
    "          break\n",
    "      text=text+\" \"+demapping_hin[i]\n",
    "    return text"
   ]
  },
  {
   "cell_type": "code",
   "execution_count": 146,
   "metadata": {
    "colab": {
     "base_uri": "https://localhost:8080/",
     "height": 170
    },
    "colab_type": "code",
    "id": "G4BQqa8aDOzN",
    "outputId": "5473e0e6-5b75-48bd-8d6f-8acc0da396e5"
   },
   "outputs": [
    {
     "data": {
      "text/plain": [
       "(' अवधि को हाइलाइट रकें', 'Highlight duration', 'अवधि को हाइलाइट रकें')"
      ]
     },
     "execution_count": 146,
     "metadata": {},
     "output_type": "execute_result"
    }
   ],
   "source": [
    "k=np.random.randint(0,10)\n",
    "# k=1\n",
    "get_reply(x[k]),x[k],y[k]"
   ]
  },
  {
   "cell_type": "code",
   "execution_count": 52,
   "metadata": {
    "colab": {
     "base_uri": "https://localhost:8080/",
     "height": 51
    },
    "colab_type": "code",
    "id": "CSBIs0MvDOzr",
    "outputId": "eea79b6c-6379-450c-b1a9-6fd711e0d8b0"
   },
   "outputs": [
    {
     "data": {
      "text/plain": [
       "array([[[ 1.3659948 , -0.6210733 ,  0.57359606, ..., -0.37711018,\n",
       "          0.00927887,  0.6345121 ],\n",
       "        [ 1.4139137 , -0.6146766 ,  0.5130726 , ..., -0.4481693 ,\n",
       "         -0.13215625,  0.6048555 ],\n",
       "        [ 1.328395  , -0.50415367,  0.48230973, ..., -0.45814547,\n",
       "         -0.16187964,  0.68956536],\n",
       "        ...,\n",
       "        [ 3.7565799 , -1.152199  ,  0.64777684, ..., -1.0389801 ,\n",
       "         -1.2760469 ,  1.3248634 ],\n",
       "        [ 4.0230546 , -1.073932  ,  0.6522169 , ..., -1.2420927 ,\n",
       "         -1.358303  ,  1.5296084 ],\n",
       "        [ 4.3087034 , -0.9515295 ,  0.6524049 , ..., -1.4894807 ,\n",
       "         -1.434341  ,  1.7592818 ]]], dtype=float32)"
      ]
     },
     "execution_count": 52,
     "metadata": {},
     "output_type": "execute_result"
    }
   ],
   "source": [
    "a,b,c=get_batch(330,331)\n",
    "sess.run(logits_h,feed_dict={X:a,Y:b})\n"
   ]
  },
  {
   "cell_type": "code",
   "execution_count": null,
   "metadata": {
    "colab": {
     "base_uri": "https://localhost:8080/",
     "height": 170
    },
    "colab_type": "code",
    "id": "YB4IcCC0DOz_",
    "outputId": "f35c4bf4-d9a9-4676-d376-721a51add50c"
   },
   "outputs": [],
   "source": [
    "get_batch(0,1)"
   ]
  },
  {
   "cell_type": "code",
   "execution_count": null,
   "metadata": {
    "colab": {},
    "colab_type": "code",
    "id": "lEZFM9f5EPKJ"
   },
   "outputs": [],
   "source": [
    "\n",
    "from pydrive.auth import GoogleAuth\n",
    "from pydrive.drive import GoogleDrive\n",
    "from google.colab import auth\n",
    "from oauth2client.client import GoogleCredentials\n",
    "\n",
    "# 1. Authenticate and create the PyDrive client.\n",
    "auth.authenticate_user()\n",
    "gauth = GoogleAuth()\n",
    "gauth.credentials = GoogleCredentials.get_application_default()\n",
    "drive = GoogleDrive(gauth)  \n",
    "\n",
    "model.save(\"facial_model_vgg_cv.h5\")\n",
    "# get the folder id where you want to save your file\n",
    "file = drive.CreateFile()\n",
    "file.SetContentFile(\"facial_model_vgg_cv.h5\")\n",
    "file.Upload()"
   ]
  }
 ],
 "metadata": {
  "accelerator": "GPU",
  "colab": {
   "collapsed_sections": [],
   "name": "Seq2Seq.ipynb",
   "provenance": [],
   "version": "0.3.2"
  },
  "kernelspec": {
   "display_name": "Python 3",
   "language": "python",
   "name": "python3"
  },
  "language_info": {
   "codemirror_mode": {
    "name": "ipython",
    "version": 3
   },
   "file_extension": ".py",
   "mimetype": "text/x-python",
   "name": "python",
   "nbconvert_exporter": "python",
   "pygments_lexer": "ipython3",
   "version": "3.6.5"
  }
 },
 "nbformat": 4,
 "nbformat_minor": 1
}

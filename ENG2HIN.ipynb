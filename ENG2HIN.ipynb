{
 "cells": [
  {
   "cell_type": "code",
   "execution_count": 1,
   "metadata": {},
   "outputs": [],
   "source": [
    "# import keras as ks\n",
    "import numpy as np\n",
    "import tensorflow as tf\n",
    "import pickle"
   ]
  },
  {
   "cell_type": "code",
   "execution_count": 2,
   "metadata": {},
   "outputs": [
    {
     "name": "stdout",
     "output_type": "stream",
     "text": [
      "INFO:tensorflow:Restoring parameters from ./seq2seq_eng2hin_50000-90\n"
     ]
    }
   ],
   "source": [
    "sess = tf.Session()\n",
    "sess.run(tf.global_variables_initializer())\n",
    "new_saver = tf.train.import_meta_graph('seq2seq_eng2hin_50000-90.meta')\n",
    "new_saver.restore(sess, tf.train.latest_checkpoint('./'))\n",
    "\n",
    "graph=tf.get_default_graph()\n"
   ]
  },
  {
   "cell_type": "code",
   "execution_count": 3,
   "metadata": {},
   "outputs": [],
   "source": [
    "file1=open(\"./mappings_eng.pickle\",\"rb\")\n",
    "file2=open(\"./mappings_hin.pickle\",\"rb\")\n",
    "\n",
    "mapping_eng,demapping_eng=pickle.load(file1)\n",
    "mapping_hin,demapping_hin=pickle.load(file2)"
   ]
  },
  {
   "cell_type": "code",
   "execution_count": 4,
   "metadata": {},
   "outputs": [
    {
     "data": {
      "text/plain": [
       "['init',\n",
       " 'save/RestoreV2/shape_and_slices',\n",
       " 'save/RestoreV2/tensor_names',\n",
       " 'save/SaveV2/shape_and_slices',\n",
       " 'save/SaveV2/tensor_names']"
      ]
     },
     "execution_count": 4,
     "metadata": {},
     "output_type": "execute_result"
    }
   ],
   "source": [
    "names=[tensor.name for tensor in tf.get_default_graph().as_graph_def().node]\n",
    "names[:5]"
   ]
  },
  {
   "cell_type": "code",
   "execution_count": 5,
   "metadata": {},
   "outputs": [],
   "source": [
    "X=graph.get_tensor_by_name(\"Placeholder:0\")\n",
    "Y=graph.get_tensor_by_name(\"Placeholder_1:0\")\n",
    "logits=graph.get_tensor_by_name(\"optimizer/fully_connected/BiasAdd:0\")"
   ]
  },
  {
   "cell_type": "code",
   "execution_count": 6,
   "metadata": {},
   "outputs": [],
   "source": [
    "max_e=10\n",
    "max_h=10\n",
    "def get_reply(text):\n",
    "    tokens=text.split()\n",
    "    data=[]\n",
    "    data.append(mapping_eng[\"startseq\"])\n",
    "    m=2\n",
    "    for i in tokens:\n",
    "        if m >= 8:\n",
    "           break\n",
    "        m+=1\n",
    "        if i.lower() not in mapping_eng.keys():\n",
    "          data.append(mapping_eng[\"UNK\"])\n",
    "        else:\n",
    "          data.append(mapping_eng[i.lower()])\n",
    "        \n",
    "    data.append(mapping_eng[\"endseq\"])\n",
    "    data_x=np.array([0]*(max_e-len(data))+data)\n",
    "    data_y=[]\n",
    "    data_y=np.array([mapping_hin[\"startseq\"]]+[0]*(max_h-len(data_y)-1))\n",
    "    last_t=\"\"\n",
    "    \n",
    "    k=0\n",
    "    reply=[]\n",
    "    \n",
    "    while(last_t!=\"endseq\" and k<max_h-1):\n",
    "#         print(data_x.shape,data_y.shape)\n",
    "        reply.append(sess.run(logits,feed_dict={X:[data_x],Y:[data_y]}).argmax(axis=-1)[0,k])\n",
    "#         print(reply)\n",
    "        data_y[k+1]=reply[k]\n",
    "#         print(data_y)\n",
    "        if(reply[k]==0):\n",
    "            break\n",
    "        last_t=demapping_hin[reply[k]]\n",
    "        k+=1\n",
    "    text=\"\"\n",
    "#     print(reply)\n",
    "    for i in reply:\n",
    "#       print(i)\n",
    "      if i==0 or i==mapping_hin[\"endseq\"]:\n",
    "          break\n",
    "      text=text+\" \"+demapping_hin[i]\n",
    "    return text"
   ]
  },
  {
   "cell_type": "code",
   "execution_count": 7,
   "metadata": {},
   "outputs": [
    {
     "data": {
      "text/plain": [
       "' खेल छोड़ें'"
      ]
     },
     "execution_count": 7,
     "metadata": {},
     "output_type": "execute_result"
    }
   ],
   "source": [
    "get_reply(\"leave the game\")"
   ]
  },
  {
   "cell_type": "code",
   "execution_count": 8,
   "metadata": {},
   "outputs": [
    {
     "data": {
      "text/plain": [
       "' मदद के लिए धन्यवाद'"
      ]
     },
     "execution_count": 8,
     "metadata": {},
     "output_type": "execute_result"
    }
   ],
   "source": [
    "get_reply(\"thanks for help\")"
   ]
  },
  {
   "cell_type": "code",
   "execution_count": 9,
   "metadata": {},
   "outputs": [
    {
     "data": {
      "text/plain": [
       "' कैसे आप कैसे मिलता है'"
      ]
     },
     "execution_count": 9,
     "metadata": {},
     "output_type": "execute_result"
    }
   ],
   "source": [
    "get_reply(\"how are you\")"
   ]
  },
  {
   "cell_type": "code",
   "execution_count": 8,
   "metadata": {},
   "outputs": [
    {
     "data": {
      "text/plain": [
       "' UNK के लिए धन्यवाद'"
      ]
     },
     "execution_count": 8,
     "metadata": {},
     "output_type": "execute_result"
    }
   ],
   "source": [
    "get_reply(\"thanks for the invite\")"
   ]
  },
  {
   "cell_type": "code",
   "execution_count": 9,
   "metadata": {},
   "outputs": [
    {
     "data": {
      "text/plain": [
       "' आप'"
      ]
     },
     "execution_count": 9,
     "metadata": {},
     "output_type": "execute_result"
    }
   ],
   "source": [
    "get_reply(\"i love \")"
   ]
  },
  {
   "cell_type": "code",
   "execution_count": null,
   "metadata": {},
   "outputs": [],
   "source": []
  }
 ],
 "metadata": {
  "kernelspec": {
   "display_name": "Python 3",
   "language": "python",
   "name": "python3"
  },
  "language_info": {
   "codemirror_mode": {
    "name": "ipython",
    "version": 3
   },
   "file_extension": ".py",
   "mimetype": "text/x-python",
   "name": "python",
   "nbconvert_exporter": "python",
   "pygments_lexer": "ipython3",
   "version": "3.6.5"
  }
 },
 "nbformat": 4,
 "nbformat_minor": 2
}
